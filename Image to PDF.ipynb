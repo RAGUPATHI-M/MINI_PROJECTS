{
 "cells": [
  {
   "cell_type": "code",
   "execution_count": 5,
   "id": "7faf7081",
   "metadata": {},
   "outputs": [
    {
     "name": "stderr",
     "output_type": "stream",
     "text": [
      "Image contains an alpha channel. Computing a separate soft mask (/SMask) image to store transparency in PDF.\n"
     ]
    },
    {
     "data": {
      "text/plain": [
       "13119"
      ]
     },
     "execution_count": 5,
     "metadata": {},
     "output_type": "execute_result"
    }
   ],
   "source": [
    "import img2pdf\n",
    "from PIL import Image"
   ]
  },
  {
   "cell_type": "code",
   "execution_count": null,
   "id": "a8c08a2e",
   "metadata": {},
   "outputs": [],
   "source": [
    "# image path\n",
    "img_path = \"dataset/img.png\""
   ]
  },
  {
   "cell_type": "code",
   "execution_count": 6,
   "id": "6688245a",
   "metadata": {},
   "outputs": [],
   "source": [
    "# pdf path\n",
    "pdf_path = \"dataset/img.pdf\""
   ]
  },
  {
   "cell_type": "code",
   "execution_count": 7,
   "id": "1e0f8acb",
   "metadata": {},
   "outputs": [],
   "source": [
    "# opening image\n",
    "image = Image.open(img_path) "
   ]
  },
  {
   "cell_type": "code",
   "execution_count": 8,
   "id": "1557abd3",
   "metadata": {},
   "outputs": [
    {
     "name": "stderr",
     "output_type": "stream",
     "text": [
      "Image contains an alpha channel. Computing a separate soft mask (/SMask) image to store transparency in PDF.\n"
     ]
    }
   ],
   "source": [
    "# converting into chunks using img2pdf\n",
    "pdf_bytes = img2pdf.convert(image.filename)"
   ]
  },
  {
   "cell_type": "code",
   "execution_count": 9,
   "id": "9e34ac64",
   "metadata": {},
   "outputs": [],
   "source": [
    "# opening or creating pdf file\n",
    "file = open(pdf_path, \"wb\")"
   ]
  },
  {
   "cell_type": "code",
   "execution_count": 10,
   "id": "baba0da1",
   "metadata": {},
   "outputs": [
    {
     "data": {
      "text/plain": [
       "13119"
      ]
     },
     "execution_count": 10,
     "metadata": {},
     "output_type": "execute_result"
    }
   ],
   "source": [
    "# writing pdf files with chunks\n",
    "file.write(pdf_bytes)"
   ]
  },
  {
   "cell_type": "code",
   "execution_count": null,
   "id": "273fb689",
   "metadata": {},
   "outputs": [],
   "source": []
  }
 ],
 "metadata": {
  "kernelspec": {
   "display_name": "Python 3 (ipykernel)",
   "language": "python",
   "name": "python3"
  },
  "language_info": {
   "codemirror_mode": {
    "name": "ipython",
    "version": 3
   },
   "file_extension": ".py",
   "mimetype": "text/x-python",
   "name": "python",
   "nbconvert_exporter": "python",
   "pygments_lexer": "ipython3",
   "version": "3.9.7"
  }
 },
 "nbformat": 4,
 "nbformat_minor": 5
}
