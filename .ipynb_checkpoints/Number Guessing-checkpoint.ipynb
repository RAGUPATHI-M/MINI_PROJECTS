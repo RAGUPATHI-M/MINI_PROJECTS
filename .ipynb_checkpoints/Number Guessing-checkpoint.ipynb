{
 "cells": [
  {
   "cell_type": "code",
   "execution_count": 2,
   "id": "ac9e7f3f",
   "metadata": {},
   "outputs": [
    {
     "name": "stdout",
     "output_type": "stream",
     "text": [
      "123\n"
     ]
    }
   ],
   "source": [
    "secret_number = eval(input())\n",
    "secret_number = int(secret_number)\n",
    "secret_number = [secret_number]"
   ]
  },
  {
   "cell_type": "code",
   "execution_count": 3,
   "id": "b9fb5cfa",
   "metadata": {},
   "outputs": [],
   "source": [
    "def guess_number (secret_number):\n",
    "    for guessed_number in secret_number:\n",
    "        return guessed_number"
   ]
  },
  {
   "cell_type": "code",
   "execution_count": 4,
   "id": "68062117",
   "metadata": {},
   "outputs": [
    {
     "data": {
      "text/plain": [
       "123"
      ]
     },
     "execution_count": 4,
     "metadata": {},
     "output_type": "execute_result"
    }
   ],
   "source": [
    "guess_number(secret_number)\n",
    "    "
   ]
  },
  {
   "cell_type": "code",
   "execution_count": null,
   "id": "8d5de47b",
   "metadata": {},
   "outputs": [],
   "source": []
  }
 ],
 "metadata": {
  "kernelspec": {
   "display_name": "Python 3 (ipykernel)",
   "language": "python",
   "name": "python3"
  },
  "language_info": {
   "codemirror_mode": {
    "name": "ipython",
    "version": 3
   },
   "file_extension": ".py",
   "mimetype": "text/x-python",
   "name": "python",
   "nbconvert_exporter": "python",
   "pygments_lexer": "ipython3",
   "version": "3.9.7"
  }
 },
 "nbformat": 4,
 "nbformat_minor": 5
}
