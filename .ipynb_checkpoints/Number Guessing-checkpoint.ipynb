{
 "cells": [
  {
   "cell_type": "code",
   "execution_count": 1,
   "id": "ac9e7f3f",
   "metadata": {},
   "outputs": [],
   "source": [
    "import numpy as np\n",
    "secret_number = np.random.randint(0,200)"
   ]
  },
  {
   "cell_type": "code",
   "execution_count": 2,
   "id": "b9fb5cfa",
   "metadata": {},
   "outputs": [],
   "source": [
    "# Number Guessing\n",
    "def guess_number (secret_number):\n",
    "    for guessed_number in secret_number:\n",
    "        return guessed_number"
   ]
  },
  {
   "cell_type": "code",
   "execution_count": 3,
   "id": "68062117",
   "metadata": {},
   "outputs": [
    {
     "data": {
      "text/plain": [
       "122"
      ]
     },
     "execution_count": 3,
     "metadata": {},
     "output_type": "execute_result"
    }
   ],
   "source": [
    "guess_number(secret_number)\n",
    "    "
   ]
  },
  {
   "cell_type": "code",
   "execution_count": null,
   "id": "1e8ac065",
   "metadata": {},
   "outputs": [],
   "source": []
  }
 ],
 "metadata": {
  "kernelspec": {
   "display_name": "Python 3 (ipykernel)",
   "language": "python",
   "name": "python3"
  },
  "language_info": {
   "codemirror_mode": {
    "name": "ipython",
    "version": 3
   },
   "file_extension": ".py",
   "mimetype": "text/x-python",
   "name": "python",
   "nbconvert_exporter": "python",
   "pygments_lexer": "ipython3",
   "version": "3.9.7"
  }
 },
 "nbformat": 4,
 "nbformat_minor": 5
}
