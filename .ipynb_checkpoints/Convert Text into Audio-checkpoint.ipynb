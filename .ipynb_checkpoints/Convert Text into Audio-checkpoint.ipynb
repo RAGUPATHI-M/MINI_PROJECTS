{
 "cells": [
  {
   "cell_type": "code",
   "execution_count": 4,
   "id": "9eeea603",
   "metadata": {},
   "outputs": [],
   "source": [
    "from gtts import gTTS\n",
    "from playsound import playsound"
   ]
  },
  {
   "cell_type": "code",
   "execution_count": 5,
   "id": "b5e307bc",
   "metadata": {},
   "outputs": [],
   "source": [
    "audio ='speech.mp3'\n",
    "language = 'en'\n",
    "sp = gTTS(text = \"Technology is the continually developing result of accumulated knowledge and application in all techniques, skills, methods, and processes used in industrial production and scientific research. Technology is embedded in the operation of all machines, with or without detailed knowledge of their function, for the intended purpose of an organization. The technologies of society consist of what is known as systems. Systems apply the intended application of a technology's accumulated knowledge by obtaining an input, altering this input for the system's intended purpose through what is known as a process, and then producing an outcome that alters the ultimate intended purpose of the system. This is also known as a technology system or technological system. \",lang=language,slow=False)"
   ]
  },
  {
   "cell_type": "code",
   "execution_count": null,
   "id": "28748143",
   "metadata": {},
   "outputs": [],
   "source": []
  }
 ],
 "metadata": {
  "kernelspec": {
   "display_name": "Python 3 (ipykernel)",
   "language": "python",
   "name": "python3"
  },
  "language_info": {
   "codemirror_mode": {
    "name": "ipython",
    "version": 3
   },
   "file_extension": ".py",
   "mimetype": "text/x-python",
   "name": "python",
   "nbconvert_exporter": "python",
   "pygments_lexer": "ipython3",
   "version": "3.9.7"
  }
 },
 "nbformat": 4,
 "nbformat_minor": 5
}
