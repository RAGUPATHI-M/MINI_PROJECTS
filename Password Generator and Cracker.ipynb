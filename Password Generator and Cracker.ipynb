{
 "cells": [
  {
   "cell_type": "code",
   "execution_count": 1,
   "id": "f5b54dd0",
   "metadata": {},
   "outputs": [],
   "source": [
    "import random\n",
    "import array"
   ]
  },
  {
   "cell_type": "code",
   "execution_count": 2,
   "id": "46d02edf",
   "metadata": {},
   "outputs": [
    {
     "name": "stdout",
     "output_type": "stream",
     "text": [
      "qsvR7uSFo<\n"
     ]
    }
   ],
   "source": [
    "# Password Generator\n",
    "\n",
    "MAX_LEN = 10\n",
    "\n",
    "DIGITS = ['0', '1', '2', '3', '4', '5', '6', '7', '8', '9']\n",
    "\n",
    "LOCASE_CHARACTERS = ['a', 'b', 'c', 'd', 'e', 'f', 'g', 'h','i', 'j', 'k', 'm', 'n', 'o', 'p', 'q','r', 's', 't', 'u', 'v', 'w', 'x', 'y','z']\n",
    " \n",
    "UPCASE_CHARACTERS = ['A', 'B', 'C', 'D', 'E', 'F', 'G', 'H','I', 'J', 'K', 'M', 'N', 'O', 'P', 'Q','R', 'S', 'T', 'U', 'V', 'W', 'X', 'Y','Z']\n",
    " \n",
    "SYMBOLS = ['@', '#', '$', '%', '=', ':', '?', '.', '/', '|', '~', '>','*', '(', ')', '<']\n",
    "\n",
    "\n",
    "COMBINED_LIST = DIGITS + UPCASE_CHARACTERS + LOCASE_CHARACTERS + SYMBOLS\n",
    " \n",
    "\n",
    "rand_digit = random.choice(DIGITS)\n",
    "rand_upper = random.choice(UPCASE_CHARACTERS)\n",
    "rand_lower = random.choice(LOCASE_CHARACTERS)\n",
    "rand_symbol = random.choice(SYMBOLS)\n",
    " \n",
    "\n",
    "temp_pass = rand_digit + rand_upper + rand_lower + rand_symbol\n",
    " \n",
    "\n",
    "for x in range(MAX_LEN - 4):\n",
    "    temp_pass = temp_pass + random.choice(COMBINED_LIST)\n",
    "    temp_pass_list = array.array('u', temp_pass)\n",
    "    random.shuffle(temp_pass_list)\n",
    "\n",
    "Generator = \"\"\n",
    "for x in temp_pass_list:\n",
    "        Generator = Generator + x\n",
    "         \n",
    "\n",
    "print(Generator)"
   ]
  },
  {
   "cell_type": "code",
   "execution_count": 3,
   "id": "b101f40b",
   "metadata": {},
   "outputs": [
    {
     "name": "stdout",
     "output_type": "stream",
     "text": [
      "qsvR7uSFo<\n"
     ]
    }
   ],
   "source": [
    "# Prcassword Cracker\n",
    "Cracker = []\n",
    "for i in range(len(Generator)):\n",
    "    for x in COMBINED_LIST:\n",
    "        if Generator[i] in x:\n",
    "            Cracker.append(x)\n",
    "\n",
    "def listToString(s):\n",
    "    str1 = \"\"\n",
    "    return (str1.join(s))\n",
    "\n",
    "Cracker = listToString(Cracker)\n",
    "\n",
    "print(Cracker)"
   ]
  },
  {
   "cell_type": "code",
   "execution_count": 4,
   "id": "d5f39fab",
   "metadata": {},
   "outputs": [
    {
     "data": {
      "text/plain": [
       "True"
      ]
     },
     "execution_count": 4,
     "metadata": {},
     "output_type": "execute_result"
    }
   ],
   "source": [
    "# validating output \n",
    "Generator == Cracker"
   ]
  },
  {
   "cell_type": "code",
   "execution_count": null,
   "id": "9ff9ce26",
   "metadata": {},
   "outputs": [],
   "source": []
  }
 ],
 "metadata": {
  "kernelspec": {
   "display_name": "Python 3 (ipykernel)",
   "language": "python",
   "name": "python3"
  },
  "language_info": {
   "codemirror_mode": {
    "name": "ipython",
    "version": 3
   },
   "file_extension": ".py",
   "mimetype": "text/x-python",
   "name": "python",
   "nbconvert_exporter": "python",
   "pygments_lexer": "ipython3",
   "version": "3.9.7"
  }
 },
 "nbformat": 4,
 "nbformat_minor": 5
}
